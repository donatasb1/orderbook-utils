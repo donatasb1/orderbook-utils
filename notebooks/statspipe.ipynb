{
 "cells": [
  {
   "cell_type": "code",
   "execution_count": 1,
   "id": "6958b914",
   "metadata": {},
   "outputs": [],
   "source": [
    "from datetime import datetime\n",
    "from orderbook.etl import pipeline\n",
    "from orderbook.db import statssqlite"
   ]
  },
  {
   "cell_type": "code",
   "execution_count": 2,
   "id": "add00153",
   "metadata": {},
   "outputs": [],
   "source": [
    "market = \"INET_MainMarket\"\n",
    "\n",
    "pipeline.process_date(market, datetime(2025, 3, 17))"
   ]
  },
  {
   "cell_type": "code",
   "execution_count": 3,
   "id": "3bb73ebc",
   "metadata": {},
   "outputs": [],
   "source": [
    "pipeline.process_new_files(market)"
   ]
  },
  {
   "cell_type": "code",
   "execution_count": 4,
   "id": "aa21c0b9",
   "metadata": {},
   "outputs": [
    {
     "name": "stdout",
     "output_type": "stream",
     "text": [
      "{'total_dates': 60}\n"
     ]
    }
   ],
   "source": [
    "with statssqlite.OrderbookStatsSqlite().db_context as conn:\n",
    "    cur = conn.cursor()\n",
    "    cur.execute(\"SELECT COUNT(DISTINCT(date)) AS total_dates FROM orderbook_stats\")\n",
    "    rows = cur.fetchall()\n",
    "    rows = [dict(zip([column[0] for column in cur.description], row)) for row in rows]\n",
    "    for row in rows:\n",
    "        print(row)\n",
    "    cur.close()"
   ]
  },
  {
   "cell_type": "code",
   "execution_count": null,
   "id": "7a7293e2",
   "metadata": {},
   "outputs": [],
   "source": []
  }
 ],
 "metadata": {
  "kernelspec": {
   "display_name": "dataenv",
   "language": "python",
   "name": "python3"
  },
  "language_info": {
   "codemirror_mode": {
    "name": "ipython",
    "version": 3
   },
   "file_extension": ".py",
   "mimetype": "text/x-python",
   "name": "python",
   "nbconvert_exporter": "python",
   "pygments_lexer": "ipython3",
   "version": "3.10.11"
  }
 },
 "nbformat": 4,
 "nbformat_minor": 5
}
