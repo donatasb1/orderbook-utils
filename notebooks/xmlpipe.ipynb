{
 "cells": [
  {
   "cell_type": "code",
   "execution_count": 1,
   "id": "415b9798",
   "metadata": {},
   "outputs": [],
   "source": [
    "from datetime import datetime\n",
    "from orderbook.xmlgen import adhoc_pipe"
   ]
  },
  {
   "cell_type": "code",
   "execution_count": 2,
   "id": "3c97f8a8",
   "metadata": {},
   "outputs": [
    {
     "name": "stdout",
     "output_type": "stream",
     "text": [
      "Using 5 threads with chunksize 1 for processing 130 dates.\n",
      "Total time taken: 39.03 seconds for processing 130 dates, 493302 rows.\n"
     ]
    }
   ],
   "source": [
    "start = datetime(2023, 1, 1)\n",
    "end = datetime(2023, 6, 30)\n",
    "\n",
    "adhoc_pipe.convert_period(\n",
    "    start=start,\n",
    "    end=end,\n",
    "    path=\"test_output/\",\n",
    ")"
   ]
  }
 ],
 "metadata": {
  "kernelspec": {
   "display_name": "dataenv",
   "language": "python",
   "name": "python3"
  },
  "language_info": {
   "codemirror_mode": {
    "name": "ipython",
    "version": 3
   },
   "file_extension": ".py",
   "mimetype": "text/x-python",
   "name": "python",
   "nbconvert_exporter": "python",
   "pygments_lexer": "ipython3",
   "version": "3.10.11"
  }
 },
 "nbformat": 4,
 "nbformat_minor": 5
}
